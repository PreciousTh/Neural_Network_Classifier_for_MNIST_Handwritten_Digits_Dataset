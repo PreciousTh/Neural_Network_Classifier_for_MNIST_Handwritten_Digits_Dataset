{
  "cells": [
    {
      "cell_type": "markdown",
      "metadata": {
        "id": "view-in-github",
        "colab_type": "text"
      },
      "source": [
        "<a href=\"https://colab.research.google.com/github/PreciousTh/Neural_Network_Classifier_for_MNIST_Handwritten_Digits_Dataset/blob/main/Neural_Network_Classifier_for_MNIST_Handwritten_Digits_Dataset.ipynb\" target=\"_parent\"><img src=\"https://colab.research.google.com/assets/colab-badge.svg\" alt=\"Open In Colab\"/></a>"
      ]
    },
    {
      "cell_type": "code",
      "execution_count": 154,
      "id": "cca32a7c",
      "metadata": {
        "id": "cca32a7c"
      },
      "outputs": [],
      "source": [
        "import tensorflow as tf\n",
        "from  tensorflow import keras\n",
        "from tensorflow.keras.models import Sequential\n",
        "from tensorflow.keras.layers import Dense,Dropout,Activation,Flatten,Conv2D,MaxPooling2D\n",
        "import matplotlib.pyplot as plt\n",
        "%matplotlib inline\n",
        "import numpy as np\n",
        "\n"
      ]
    },
    {
      "cell_type": "markdown",
      "source": [
        "# **Data Preprocessing**"
      ],
      "metadata": {
        "id": "NAiRATDVis7g"
      },
      "id": "NAiRATDVis7g"
    },
    {
      "cell_type": "markdown",
      "source": [
        "## **Loading** **Dataset**"
      ],
      "metadata": {
        "id": "TInDY5RBjM6l"
      },
      "id": "TInDY5RBjM6l"
    },
    {
      "cell_type": "code",
      "source": [
        "# Importing the mnist dataset\n",
        "mnist = tf.keras.datasets.mnist\n",
        "hand_dataset = mnist.load_data()\n"
      ],
      "metadata": {
        "id": "mVf5hNo9eNUd"
      },
      "id": "mVf5hNo9eNUd",
      "execution_count": 155,
      "outputs": []
    },
    {
      "cell_type": "markdown",
      "source": [
        "## **Preprocessing**"
      ],
      "metadata": {
        "id": "My-DLmVxfLYv"
      },
      "id": "My-DLmVxfLYv"
    },
    {
      "cell_type": "markdown",
      "source": [
        "### **Exploring data**"
      ],
      "metadata": {
        "id": "YzhCMeqg0Xjn"
      },
      "id": "YzhCMeqg0Xjn"
    },
    {
      "cell_type": "code",
      "source": [
        "# Dividing the data into train and test datasets\n",
        "(x_train, y_train), (x_test, y_test) = hand_dataset"
      ],
      "metadata": {
        "id": "JY385leswmN2"
      },
      "id": "JY385leswmN2",
      "execution_count": 156,
      "outputs": []
    },
    {
      "cell_type": "code",
      "source": [
        "# Printing the shape of data\n",
        "x_train.shape"
      ],
      "metadata": {
        "colab": {
          "base_uri": "https://localhost:8080/"
        },
        "id": "HKhSqDpjx6vn",
        "outputId": "cb4689df-c0ac-4554-b0df-72b81032e459"
      },
      "id": "HKhSqDpjx6vn",
      "execution_count": 157,
      "outputs": [
        {
          "output_type": "execute_result",
          "data": {
            "text/plain": [
              "(60000, 28, 28)"
            ]
          },
          "metadata": {},
          "execution_count": 157
        }
      ]
    },
    {
      "cell_type": "code",
      "source": [
        "image = 0\n",
        "print(y_train[image])"
      ],
      "metadata": {
        "colab": {
          "base_uri": "https://localhost:8080/"
        },
        "id": "P3Q-8UJeSzYg",
        "outputId": "fb20309d-c2d4-4101-eca3-68b25d557044"
      },
      "id": "P3Q-8UJeSzYg",
      "execution_count": 158,
      "outputs": [
        {
          "output_type": "stream",
          "name": "stdout",
          "text": [
            "5\n"
          ]
        }
      ]
    },
    {
      "cell_type": "code",
      "source": [
        "plt.imshow(x_train[0],cmap=\"Greys\")"
      ],
      "metadata": {
        "colab": {
          "base_uri": "https://localhost:8080/",
          "height": 447
        },
        "id": "ENHFe80nnOiu",
        "outputId": "f6236ecf-0a20-44d8-e731-4c73e1bc6495"
      },
      "id": "ENHFe80nnOiu",
      "execution_count": 159,
      "outputs": [
        {
          "output_type": "execute_result",
          "data": {
            "text/plain": [
              "<matplotlib.image.AxesImage at 0x7f63429afe50>"
            ]
          },
          "metadata": {},
          "execution_count": 159
        },
        {
          "output_type": "display_data",
          "data": {
            "text/plain": [
              "<Figure size 640x480 with 1 Axes>"
            ],
            "image/png": "[encoded data removed]"
          },
          "metadata": {}
        }
      ]
    },
    {
      "cell_type": "code",
      "source": [
        "# Printing the data before normalization\n",
        "print(x_train[image])"
      ],
      "metadata": {
        "colab": {
          "base_uri": "https://localhost:8080/"
        },
        "id": "oyf5rxMHzOm2",
        "outputId": "f6b915aa-e5a5-40ec-c336-70bfe896e63c"
      },
      "id": "oyf5rxMHzOm2",
      "execution_count": 160,
      "outputs": [
        {
          "output_type": "stream",
          "name": "stdout",
          "text": [
            "[[  0   0   0   0   0   0   0   0   0   0   0   0   0   0   0   0   0   0\n",
            "    0   0   0   0   0   0   0   0   0   0]\n",
            " [  0   0   0   0   0   0   0   0   0   0   0   0   0   0   0   0   0   0\n",
            "    0   0   0   0   0   0   0   0   0   0]\n",
            " [  0   0   0   0   0   0   0   0   0   0   0   0   0   0   0   0   0   0\n",
            "    0   0   0   0   0   0   0   0   0   0]\n",
            " [  0   0   0   0   0   0   0   0   0   0   0   0   0   0   0   0   0   0\n",
            "    0   0   0   0   0   0   0   0   0   0]\n",
            " [  0   0   0   0   0   0   0   0   0   0   0   0   0   0   0   0   0   0\n",
            "    0   0   0   0   0   0   0   0   0   0]\n",
            " [  0   0   0   0   0   0   0   0   0   0   0   0   3  18  18  18 126 136\n",
            "  175  26 166 255 247 127   0   0   0   0]\n",
            " [  0   0   0   0   0   0   0   0  30  36  94 154 170 253 253 253 253 253\n",
            "  225 172 253 242 195  64   0   0   0   0]\n",
            " [  0   0   0   0   0   0   0  49 238 253 253 253 253 253 253 253 253 251\n",
            "   93  82  82  56  39   0   0   0   0   0]\n",
            " [  0   0   0   0   0   0   0  18 219 253 253 253 253 253 198 182 247 241\n",
            "    0   0   0   0   0   0   0   0   0   0]\n",
            " [  0   0   0   0   0   0   0   0  80 156 107 253 253 205  11   0  43 154\n",
            "    0   0   0   0   0   0   0   0   0   0]\n",
            " [  0   0   0   0   0   0   0   0   0  14   1 154 253  90   0   0   0   0\n",
            "    0   0   0   0   0   0   0   0   0   0]\n",
            " [  0   0   0   0   0   0   0   0   0   0   0 139 253 190   2   0   0   0\n",
            "    0   0   0   0   0   0   0   0   0   0]\n",
            " [  0   0   0   0   0   0   0   0   0   0   0  11 190 253  70   0   0   0\n",
            "    0   0   0   0   0   0   0   0   0   0]\n",
            " [  0   0   0   0   0   0   0   0   0   0   0   0  35 241 225 160 108   1\n",
            "    0   0   0   0   0   0   0   0   0   0]\n",
            " [  0   0   0   0   0   0   0   0   0   0   0   0   0  81 240 253 253 119\n",
            "   25   0   0   0   0   0   0   0   0   0]\n",
            " [  0   0   0   0   0   0   0   0   0   0   0   0   0   0  45 186 253 253\n",
            "  150  27   0   0   0   0   0   0   0   0]\n",
            " [  0   0   0   0   0   0   0   0   0   0   0   0   0   0   0  16  93 252\n",
            "  253 187   0   0   0   0   0   0   0   0]\n",
            " [  0   0   0   0   0   0   0   0   0   0   0   0   0   0   0   0   0 249\n",
            "  253 249  64   0   0   0   0   0   0   0]\n",
            " [  0   0   0   0   0   0   0   0   0   0   0   0   0   0  46 130 183 253\n",
            "  253 207   2   0   0   0   0   0   0   0]\n",
            " [  0   0   0   0   0   0   0   0   0   0   0   0  39 148 229 253 253 253\n",
            "  250 182   0   0   0   0   0   0   0   0]\n",
            " [  0   0   0   0   0   0   0   0   0   0  24 114 221 253 253 253 253 201\n",
            "   78   0   0   0   0   0   0   0   0   0]\n",
            " [  0   0   0   0   0   0   0   0  23  66 213 253 253 253 253 198  81   2\n",
            "    0   0   0   0   0   0   0   0   0   0]\n",
            " [  0   0   0   0   0   0  18 171 219 253 253 253 253 195  80   9   0   0\n",
            "    0   0   0   0   0   0   0   0   0   0]\n",
            " [  0   0   0   0  55 172 226 253 253 253 253 244 133  11   0   0   0   0\n",
            "    0   0   0   0   0   0   0   0   0   0]\n",
            " [  0   0   0   0 136 253 253 253 212 135 132  16   0   0   0   0   0   0\n",
            "    0   0   0   0   0   0   0   0   0   0]\n",
            " [  0   0   0   0   0   0   0   0   0   0   0   0   0   0   0   0   0   0\n",
            "    0   0   0   0   0   0   0   0   0   0]\n",
            " [  0   0   0   0   0   0   0   0   0   0   0   0   0   0   0   0   0   0\n",
            "    0   0   0   0   0   0   0   0   0   0]\n",
            " [  0   0   0   0   0   0   0   0   0   0   0   0   0   0   0   0   0   0\n",
            "    0   0   0   0   0   0   0   0   0   0]]\n"
          ]
        }
      ]
    },
    {
      "cell_type": "markdown",
      "source": [
        "### **Normalization of data**"
      ],
      "metadata": {
        "id": "C5BFY-kZ0daH"
      },
      "id": "C5BFY-kZ0daH"
    },
    {
      "cell_type": "markdown",
      "source": [
        "### **Resizing Image to enable convoluation operation**"
      ],
      "metadata": {
        "id": "pJjEYlZtRWsK"
      },
      "id": "pJjEYlZtRWsK"
    },
    {
      "cell_type": "code",
      "source": [
        "img_rows=28\n",
        "img_cols = 28\n",
        "channels = 1\n",
        "filters = 32\n",
        "kernel_size = (3,3)\n",
        "input_shape = (img_rows,img_cols,channels)\n",
        "\n",
        "# reshaping for kernel operation\n",
        "x_train = x_train.reshape(x_train.shape[0],img_rows,img_cols,channels)\n",
        "# reshaping for kernel operation\n",
        "x_test = x_test.reshape(x_test.shape[0],img_rows,img_cols,channels)\n",
        "# Printing the outcomes\n",
        "print(\"Training sample dimension\", x_train.shape)\n",
        "print(\"Training sample dimension\", x_test.shape)"
      ],
      "metadata": {
        "colab": {
          "base_uri": "https://localhost:8080/"
        },
        "id": "ZMjFknN-RiOy",
        "outputId": "83c5d5b6-dda5-4988-bfff-7b93cb5b7a98"
      },
      "id": "ZMjFknN-RiOy",
      "execution_count": 161,
      "outputs": [
        {
          "output_type": "stream",
          "name": "stdout",
          "text": [
            "Training sample dimension (60000, 28, 28, 1)\n",
            "Training sample dimension (10000, 28, 28, 1)\n"
          ]
        }
      ]
    },
    {
      "cell_type": "markdown",
      "source": [
        "### **Normalization**"
      ],
      "metadata": {
        "id": "1jaKEttGRsL6"
      },
      "id": "1jaKEttGRsL6"
    },
    {
      "cell_type": "code",
      "source": [
        "# normalize data\n",
        "x_train = tf.keras.utils.normalize(x_train,axis =1 )\n",
        "x_test = tf.keras.utils.normalize(x_test,axis =1 )\n",
        "plt.imshow(x_train[0], cmap = plt.cm.binary)"
      ],
      "metadata": {
        "colab": {
          "base_uri": "https://localhost:8080/",
          "height": 447
        },
        "id": "ZJQXNCug0mWY",
        "outputId": "98745598-983b-4445-ea7f-99e9e1637e0c"
      },
      "id": "ZJQXNCug0mWY",
      "execution_count": 164,
      "outputs": [
        {
          "output_type": "execute_result",
          "data": {
            "text/plain": [
              "<matplotlib.image.AxesImage at 0x7f63428864a0>"
            ]
          },
          "metadata": {},
          "execution_count": 164
        },
        {
          "output_type": "display_data",
          "data": {
            "text/plain": [
              "<Figure size 640x480 with 1 Axes>"
            ],
            "image/png": "[encoded data removed]"
          },
          "metadata": {}
        }
      ]
    },
    {
      "cell_type": "code",
      "source": [
        "# Print data after normalization\n",
        "print(x_train[image][7])"
      ],
      "metadata": {
        "colab": {
          "base_uri": "https://localhost:8080/"
        },
        "id": "PK_WfARS32QC",
        "outputId": "a51d2197-5bc4-4b99-b9eb-9434374aa8b2"
      },
      "id": "PK_WfARS32QC",
      "execution_count": 165,
      "outputs": [
        {
          "output_type": "stream",
          "name": "stdout",
          "text": [
            "[[0.        ]\n",
            " [0.        ]\n",
            " [0.        ]\n",
            " [0.        ]\n",
            " [0.        ]\n",
            " [0.        ]\n",
            " [0.        ]\n",
            " [0.12250613]\n",
            " [0.45858525]\n",
            " [0.45852825]\n",
            " [0.43408872]\n",
            " [0.37314701]\n",
            " [0.33153488]\n",
            " [0.32790981]\n",
            " [0.36833534]\n",
            " [0.3689874 ]\n",
            " [0.34978968]\n",
            " [0.32420121]\n",
            " [0.15214552]\n",
            " [0.17865984]\n",
            " [0.25626376]\n",
            " [0.1573102 ]\n",
            " [0.12298801]\n",
            " [0.        ]\n",
            " [0.        ]\n",
            " [0.        ]\n",
            " [0.        ]\n",
            " [0.        ]]\n"
          ]
        }
      ]
    },
    {
      "cell_type": "markdown",
      "source": [
        "# **Data Modeling**"
      ],
      "metadata": {
        "id": "2yvweDVHkDpH"
      },
      "id": "2yvweDVHkDpH"
    },
    {
      "cell_type": "markdown",
      "source": [
        "## **Creating the Deep Neural Network Model Artichecture**"
      ],
      "metadata": {
        "id": "EujCM3618oqW"
      },
      "id": "EujCM3618oqW"
    },
    {
      "cell_type": "code",
      "source": [
        "x_train.shape"
      ],
      "metadata": {
        "colab": {
          "base_uri": "https://localhost:8080/"
        },
        "id": "g_k_fcjFDcF3",
        "outputId": "2ac7a92b-2644-4632-890f-00c1a41f8508"
      },
      "id": "g_k_fcjFDcF3",
      "execution_count": 166,
      "outputs": [
        {
          "output_type": "execute_result",
          "data": {
            "text/plain": [
              "(60000, 28, 28, 1)"
            ]
          },
          "metadata": {},
          "execution_count": 166
        }
      ]
    },
    {
      "cell_type": "code",
      "source": [
        "# Create a Sequential model\n",
        "model = Sequential()\n",
        "\n",
        "# Add a Conv2D layer with 32 filters and a 3x3 kernel\n",
        "model.add(Conv2D(filters, kernel_size, activation='relu', input_shape=input_shape))"
      ],
      "metadata": {
        "id": "U8DL-LipNXWI"
      },
      "id": "U8DL-LipNXWI",
      "execution_count": 167,
      "outputs": []
    },
    {
      "cell_type": "markdown",
      "source": [
        "### Pooling Layers"
      ],
      "metadata": {
        "id": "ClHbVGGobsdq"
      },
      "id": "ClHbVGGobsdq"
    },
    {
      "cell_type": "code",
      "source": [
        "# Add a max pooling layer with 2x2 pool size\n",
        "model.add(MaxPooling2D(pool_size=(2, 2)))\n",
        "\n",
        "# Add a second convolutional layer with 64 filters, 3x3 kernel, and ReLU activation\n",
        "model.add(Conv2D(64, kernel_size, activation='relu'))\n",
        "\n",
        "# Add a third convolutional layer with 128 filters, 3x3 kernel, and ReLU activation\n",
        "model.add(Conv2D(128, kernel_size, activation='relu'))\n",
        "\n",
        "# Add a second max pooling layer with 2x2 pool size\n",
        "model.add(MaxPooling2D(pool_size=(2, 2)))"
      ],
      "metadata": {
        "id": "h-EIstAQdsuD"
      },
      "id": "h-EIstAQdsuD",
      "execution_count": 168,
      "outputs": []
    },
    {
      "cell_type": "markdown",
      "source": [
        "### Full Connected Layers"
      ],
      "metadata": {
        "id": "479KMc6veMQC"
      },
      "id": "479KMc6veMQC"
    },
    {
      "cell_type": "code",
      "source": [
        "# Flatten the input for dense layers\n",
        "model.add(Flatten())\n",
        "\n",
        "# Add a dense layer with 128 units and ReLU activation\n",
        "model.add(Dense(128, activation='relu'))\n",
        "\n",
        "# Add a dropout layer with 0.5 dropout rate\n",
        "model.add(Dropout(0.5))\n",
        "\n",
        "# Add the output layer with 10 units (one for each class) and softmax activation\n",
        "model.add(Dense(10, activation='softmax'))"
      ],
      "metadata": {
        "id": "DnUJ5mN0eZuQ"
      },
      "id": "DnUJ5mN0eZuQ",
      "execution_count": 170,
      "outputs": []
    },
    {
      "cell_type": "markdown",
      "source": [
        "### Preparing data for Training"
      ],
      "metadata": {
        "id": "qmaoC_Y8ic5y"
      },
      "id": "qmaoC_Y8ic5y"
    },
    {
      "cell_type": "code",
      "source": [
        "model.compile(optimizer='adam',\n",
        "              loss='sparse_categorical_crossentropy',\n",
        "              metrics=['accuracy'])"
      ],
      "metadata": {
        "id": "LbqZCAOlgAZ4"
      },
      "id": "LbqZCAOlgAZ4",
      "execution_count": 171,
      "outputs": []
    },
    {
      "cell_type": "markdown",
      "source": [
        "# **Model Training and Validation**"
      ],
      "metadata": {
        "id": "K-qdcfhbkOId"
      },
      "id": "K-qdcfhbkOId"
    },
    {
      "cell_type": "markdown",
      "source": [
        "## **Train a Model**"
      ],
      "metadata": {
        "id": "1Co-b4_df443"
      },
      "id": "1Co-b4_df443"
    },
    {
      "cell_type": "code",
      "source": [
        "history = model.fit(x_train, y_train, batch_size=32, epochs=10, validation_data=(x_test, y_test))\n"
      ],
      "metadata": {
        "colab": {
          "base_uri": "https://localhost:8080/"
        },
        "id": "99RewdX9h5S-",
        "outputId": "3d4dbf93-0695-4aca-a40f-b4e46fdf8304"
      },
      "id": "99RewdX9h5S-",
      "execution_count": 172,
      "outputs": [
        {
          "output_type": "stream",
          "name": "stdout",
          "text": [
            "Epoch 1/10\n",
            "1875/1875 [==============================] - 121s 64ms/step - loss: 0.7274 - accuracy: 0.7140 - val_loss: 0.2306 - val_accuracy: 0.8886\n",
            "Epoch 2/10\n",
            "1875/1875 [==============================] - 117s 62ms/step - loss: 0.1755 - accuracy: 0.9557 - val_loss: 0.0601 - val_accuracy: 0.9857\n",
            "Epoch 3/10\n",
            "1875/1875 [==============================] - 121s 64ms/step - loss: 0.1025 - accuracy: 0.9763 - val_loss: 0.0481 - val_accuracy: 0.9878\n",
            "Epoch 4/10\n",
            "1875/1875 [==============================] - 116s 62ms/step - loss: 0.0835 - accuracy: 0.9809 - val_loss: 0.0403 - val_accuracy: 0.9900\n",
            "Epoch 5/10\n",
            "1875/1875 [==============================] - 117s 62ms/step - loss: 0.0673 - accuracy: 0.9847 - val_loss: 0.0362 - val_accuracy: 0.9902\n",
            "Epoch 6/10\n",
            "1875/1875 [==============================] - 116s 62ms/step - loss: 0.0591 - accuracy: 0.9864 - val_loss: 0.0431 - val_accuracy: 0.9907\n",
            "Epoch 7/10\n",
            "1875/1875 [==============================] - 115s 61ms/step - loss: 0.0487 - accuracy: 0.9884 - val_loss: 0.0337 - val_accuracy: 0.9915\n",
            "Epoch 8/10\n",
            "1875/1875 [==============================] - 116s 62ms/step - loss: 0.0464 - accuracy: 0.9893 - val_loss: 0.0364 - val_accuracy: 0.9917\n",
            "Epoch 9/10\n",
            "1875/1875 [==============================] - 117s 62ms/step - loss: 0.0447 - accuracy: 0.9898 - val_loss: 0.0378 - val_accuracy: 0.9916\n",
            "Epoch 10/10\n",
            "1875/1875 [==============================] - 116s 62ms/step - loss: 0.0390 - accuracy: 0.9905 - val_loss: 0.0384 - val_accuracy: 0.9917\n"
          ]
        }
      ]
    },
    {
      "cell_type": "markdown",
      "source": [
        "## **Visualize the Training History**"
      ],
      "metadata": {
        "id": "BYtaYl2orE4Z"
      },
      "id": "BYtaYl2orE4Z"
    },
    {
      "cell_type": "code",
      "source": [
        "plt.plot(history.history['accuracy'])\n",
        "plt.plot(history.history['val_accuracy'])\n",
        "plt.title('Model Accuracy')\n",
        "plt.xlabel('Epoch')\n",
        "plt.ylabel('Accuracy')\n",
        "plt.legend(['Train', 'Validation'], loc='upper left')\n",
        "plt.show()\n"
      ],
      "metadata": {
        "colab": {
          "base_uri": "https://localhost:8080/",
          "height": 472
        },
        "id": "ZPs7unIprTh4",
        "outputId": "52cfa198-78a9-473d-8b8c-3b3e46c2e108"
      },
      "id": "ZPs7unIprTh4",
      "execution_count": 173,
      "outputs": [
        {
          "output_type": "display_data",
          "data": {
            "text/plain": [
              "<Figure size 640x480 with 1 Axes>"
            ],
            "image/png": "[encoded data removed]"
          },
          "metadata": {}
        }
      ]
    },
    {
      "cell_type": "markdown",
      "source": [
        "# **Model Evaluation and Testing**"
      ],
      "metadata": {
        "id": "tI2fMf-pkc82"
      },
      "id": "tI2fMf-pkc82"
    },
    {
      "cell_type": "markdown",
      "source": [
        "## **Evaluating the model**"
      ],
      "metadata": {
        "id": "FFPb4-GKpn-1"
      },
      "id": "FFPb4-GKpn-1"
    },
    {
      "cell_type": "code",
      "source": [
        "test_loss, test_accuracy = model.evaluate(x_test, y_test)\n",
        "print(\"Test Loss:\", test_loss)\n",
        "print(\"Test Accuracy:\", test_accuracy)\n"
      ],
      "metadata": {
        "colab": {
          "base_uri": "https://localhost:8080/"
        },
        "id": "DLVrFvDTpxIV",
        "outputId": "2686525e-827b-4ec7-e710-b39a4fc7e968"
      },
      "id": "DLVrFvDTpxIV",
      "execution_count": 175,
      "outputs": [
        {
          "output_type": "stream",
          "name": "stdout",
          "text": [
            "313/313 [==============================] - 6s 19ms/step - loss: 0.0384 - accuracy: 0.9917\n",
            "Test Loss: 0.03842181712388992\n",
            "Test Accuracy: 0.9916999936103821\n"
          ]
        }
      ]
    },
    {
      "cell_type": "markdown",
      "source": [
        "## **Test the Model**"
      ],
      "metadata": {
        "id": "IjnGJhJ2qqh4"
      },
      "id": "IjnGJhJ2qqh4"
    },
    {
      "cell_type": "code",
      "source": [
        "new_image = 0\n",
        "# Visualizing the image\n",
        "plt.imshow(x_test[new_image].reshape(28, 28), cmap='gray')\n"
      ],
      "metadata": {
        "colab": {
          "base_uri": "https://localhost:8080/",
          "height": 447
        },
        "id": "NeFLdA1HriSS",
        "outputId": "597820eb-fd52-4094-bbfe-d5f9d39e9641"
      },
      "id": "NeFLdA1HriSS",
      "execution_count": 180,
      "outputs": [
        {
          "output_type": "execute_result",
          "data": {
            "text/plain": [
              "<matplotlib.image.AxesImage at 0x7f6340b97010>"
            ]
          },
          "metadata": {},
          "execution_count": 180
        },
        {
          "output_type": "display_data",
          "data": {
            "text/plain": [
              "<Figure size 640x480 with 1 Axes>"
            ],
            "image/png": "[encoded data removed]"
          },
          "metadata": {}
        }
      ]
    },
    {
      "cell_type": "code",
      "source": [
        "# Applying our model to predict the image\n",
        "pred = model.predict(x_test[new_image].reshape(1, img_rows,img_cols, 1))"
      ],
      "metadata": {
        "colab": {
          "base_uri": "https://localhost:8080/"
        },
        "id": "tu5Tu8cWr8SB",
        "outputId": "824230e7-8ca0-4bfe-8bab-e57dc7f0989b"
      },
      "id": "tu5Tu8cWr8SB",
      "execution_count": 181,
      "outputs": [
        {
          "output_type": "stream",
          "name": "stdout",
          "text": [
            "1/1 [==============================] - 0s 148ms/step\n"
          ]
        }
      ]
    },
    {
      "cell_type": "code",
      "source": [
        "#print prediction\n",
        "print(pred.argmax())"
      ],
      "metadata": {
        "colab": {
          "base_uri": "https://localhost:8080/"
        },
        "id": "LdgVGPNvsTub",
        "outputId": "0a2e3e0c-a008-4021-b2ca-bbabe0372eac"
      },
      "id": "LdgVGPNvsTub",
      "execution_count": 182,
      "outputs": [
        {
          "output_type": "stream",
          "name": "stdout",
          "text": [
            "7\n"
          ]
        }
      ]
    }
  ],
  "metadata": {
    "kernelspec": {
      "display_name": "Python 3",
      "name": "python3"
    },
    "language_info": {
      "codemirror_mode": {
        "name": "ipython",
        "version": 3
      },
      "file_extension": ".py",
      "mimetype": "text/x-python",
      "name": "python",
      "nbconvert_exporter": "python",
      "pygments_lexer": "ipython3",
      "version": "3.10.9"
    },
    "colab": {
      "provenance": [],
      "gpuType": "T4",
      "include_colab_link": true
    }
  },
  "nbformat": 4,
  "nbformat_minor": 5
}